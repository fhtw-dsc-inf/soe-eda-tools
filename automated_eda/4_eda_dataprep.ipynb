{
 "cells": [
  {
   "cell_type": "markdown",
   "id": "3543162c",
   "metadata": {},
   "source": [
    "### 🦆 DuckDB Explained \n",
    "\n",
    "### 🛠️ DuckDB is to data science what SQLite is to apps: \n",
    "**A no-fuss, powerful local engine for structured data**.\n",
    "\n",
    "### 🧠 Why DuckDB is Ideal for Data Analysis\n",
    "- **Query CSV, Parquet, Pandas directly** — no need to import into a database first\n",
    "- **Zero setup** — works like SQLite, embedded and portable\n",
    "- **Full SQL syntax** — supports `JOIN`, `GROUP BY`, `WINDOW`, `CTE`, and more\n",
    "- **Extremely fast** — vectorized execution engine optimized for analytical queries\n",
    "- **Memory-efficient** — columnar in-memory format means less RAM usage\n",
    "- **Great for notebooks** — plays well with Jupyter, pandas, and visualization tools\n",
    "\n",
    "\n",
    "### 🚀 DuckDB Use Cases\n",
    "- Running ad-hoc SQL on `pandas` DataFrames\n",
    "- Exploring large CSV or Parquet files *without loading everything into memory*\n",
    "- Building lightweight data pipelines and dashboards\n",
    "- Testing queries before porting to production DBs (e.g., PostgreSQL, BigQuery)\n",
    "- Offline data exploration with **zero dependencies**\n",
    "\n",
    "\n",
    "### 🧩 Features Summary\n",
    "- Embedded (no server)\n",
    "- Columnar storage\n",
    "- Native support for CSV, JSON, Parquet, Arrow\n",
    "- Integration with Pandas, Polars, Arrow, and R\n",
    "- Supports SQL window functions, CTEs, nested queries\n",
    "- Works on Linux, macOS, Windows, and in the browser (via WASM)"
   ]
  },
  {
   "cell_type": "code",
   "execution_count": null,
   "id": "d3f4f311",
   "metadata": {},
   "outputs": [],
   "source": [
    "import pandas as pd\n",
    "import duckdb\n",
    "\n",
    "df = pd.read_csv(\"bankdata.csv\")\n",
    "\n",
    "res = duckdb.query(\"\"\"\n",
    "    SELECT marital, COUNT(*) AS n\n",
    "    FROM df\n",
    "    WHERE loan = 'no'\n",
    "    GROUP BY marital\n",
    "\"\"\").to_df()\n",
    "\n",
    "print(res)"
   ]
  },
  {
   "cell_type": "markdown",
   "id": "73bf2709",
   "metadata": {},
   "source": [
    "💥 2. Use SQL Window Functions (e.g. RANK)"
   ]
  },
  {
   "cell_type": "code",
   "execution_count": null,
   "id": "af50c3bf",
   "metadata": {},
   "outputs": [],
   "source": [
    "res = duckdb.query(\"\"\"\n",
    "    SELECT age, balance,\n",
    "           RANK() OVER (ORDER BY balance DESC) AS balance_rank\n",
    "    FROM df\n",
    "\"\"\").to_df()\n",
    "res"
   ]
  },
  {
   "cell_type": "markdown",
   "id": "caa37872",
   "metadata": {},
   "source": [
    "#### 🧠 3. Use CTEs and Subqueries Cleanly"
   ]
  },
  {
   "cell_type": "code",
   "execution_count": null,
   "id": "899c2814",
   "metadata": {},
   "outputs": [],
   "source": [
    "res = duckdb.query(\"\"\"\n",
    "    WITH top_balances AS (\n",
    "        SELECT job, balance\n",
    "        FROM df\n",
    "        WHERE balance > 1000\n",
    "    )\n",
    "    SELECT job, COUNT(*) AS high_balance_count\n",
    "    FROM top_balances\n",
    "    GROUP BY job\n",
    "\"\"\").to_df()\n",
    "\n",
    "res"
   ]
  },
  {
   "cell_type": "markdown",
   "id": "0143f9f4",
   "metadata": {},
   "source": [
    "#### 🧲 4. Read & Write Parquet Files Natively\n",
    "\n"
   ]
  },
  {
   "cell_type": "code",
   "execution_count": null,
   "id": "6d812d47",
   "metadata": {},
   "outputs": [],
   "source": [
    "# Export to Parquet\n",
    "duckdb.query(\"COPY df TO 'bankdata.parquet' (FORMAT PARQUET)\")\n",
    "\n",
    "# Query from Parquet\n",
    "res = duckdb.query(\"SELECT * FROM 'bankdata.parquet' WHERE age > 40\").to_df()\n",
    "res"
   ]
  },
  {
   "cell_type": "markdown",
   "id": "b2ac500a",
   "metadata": {},
   "source": [
    "#### 🔄 5. JOIN CSV (df) with DataFrame on the Fly"
   ]
  },
  {
   "cell_type": "code",
   "execution_count": null,
   "id": "93105e97",
   "metadata": {},
   "outputs": [],
   "source": [
    "age_groups = pd.DataFrame({\n",
    "    'age': [28, 33, 35, 44, 47, 58],\n",
    "    'group': ['young', 'young', 'young', 'mid', 'mid', 'old']\n",
    "})\n",
    "\n",
    "res = duckdb.query(\"\"\"\n",
    "    SELECT df.age, df.job, ag.group\n",
    "    FROM df\n",
    "    JOIN age_groups ag ON df.age = ag.age\n",
    "\"\"\").to_df()\n",
    "res"
   ]
  }
 ],
 "metadata": {
  "kernelspec": {
   "display_name": "Python 3",
   "language": "python",
   "name": "python3"
  },
  "language_info": {
   "codemirror_mode": {
    "name": "ipython",
    "version": 3
   },
   "file_extension": ".py",
   "mimetype": "text/x-python",
   "name": "python",
   "nbconvert_exporter": "python",
   "pygments_lexer": "ipython3",
   "version": "3.11.12"
  }
 },
 "nbformat": 4,
 "nbformat_minor": 5
}
