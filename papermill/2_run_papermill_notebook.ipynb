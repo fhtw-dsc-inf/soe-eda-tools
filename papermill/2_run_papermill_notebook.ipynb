{
 "cells": [
  {
   "cell_type": "markdown",
   "metadata": {},
   "source": [
    "# Execute via the Python API\n",
    "The execute_notebook function can be called to execute an input notebook when passed a dictionary of parameters:\n",
    "\n",
    "`execute_notebook(<input notebook>, <output notebook>, <dictionary of parameters>)`"
   ]
  },
  {
   "cell_type": "code",
   "execution_count": 1,
   "metadata": {},
   "outputs": [
    {
     "data": {
      "application/vnd.jupyter.widget-view+json": {
       "model_id": "fbf102896e664a52a3c7a3e2b12bd61a",
       "version_major": 2,
       "version_minor": 0
      },
      "text/plain": [
       "Executing:   0%|          | 0/4 [00:00<?, ?cell/s]"
      ]
     },
     "metadata": {},
     "output_type": "display_data"
    },
    {
     "data": {
      "text/plain": [
       "{'cells': [{'cell_type': 'code',\n",
       "   'execution_count': 1,\n",
       "   'metadata': {'tags': ['parameters'],\n",
       "    'papermill': {'exception': False,\n",
       "     'start_time': '2025-05-06T20:25:43.417601',\n",
       "     'end_time': '2025-05-06T20:25:43.431164',\n",
       "     'duration': 0.013563,\n",
       "     'status': 'completed'},\n",
       "    'execution': {'iopub.status.busy': '2025-05-06T20:25:43.420269Z',\n",
       "     'iopub.execute_input': '2025-05-06T20:25:43.420576Z',\n",
       "     'shell.execute_reply': '2025-05-06T20:25:43.428874Z',\n",
       "     'iopub.status.idle': '2025-05-06T20:25:43.429311Z'}},\n",
       "   'outputs': [],\n",
       "   'source': 'alpha = 0.1\\nratio = 0.1',\n",
       "   'id': '3d648488'},\n",
       "  {'id': 'e15d1ff0',\n",
       "   'cell_type': 'code',\n",
       "   'metadata': {'tags': ['injected-parameters'],\n",
       "    'papermill': {'exception': False,\n",
       "     'start_time': '2025-05-06T20:25:43.438257',\n",
       "     'end_time': '2025-05-06T20:25:43.448372',\n",
       "     'duration': 0.010115,\n",
       "     'status': 'completed'},\n",
       "    'execution': {'iopub.status.busy': '2025-05-06T20:25:43.443470Z',\n",
       "     'iopub.execute_input': '2025-05-06T20:25:43.443686Z',\n",
       "     'shell.execute_reply': '2025-05-06T20:25:43.446590Z',\n",
       "     'iopub.status.idle': '2025-05-06T20:25:43.447051Z'}},\n",
       "   'execution_count': 2,\n",
       "   'source': '# Parameters\\nalpha = 0.6\\nratio = 0.1\\n',\n",
       "   'outputs': []},\n",
       "  {'cell_type': 'code',\n",
       "   'execution_count': 3,\n",
       "   'metadata': {'tags': [],\n",
       "    'papermill': {'exception': False,\n",
       "     'start_time': '2025-05-06T20:25:43.451143',\n",
       "     'end_time': '2025-05-06T20:25:43.795197',\n",
       "     'duration': 0.344054,\n",
       "     'status': 'completed'},\n",
       "    'execution': {'iopub.status.busy': '2025-05-06T20:25:43.456754Z',\n",
       "     'iopub.execute_input': '2025-05-06T20:25:43.456959Z',\n",
       "     'shell.execute_reply': '2025-05-06T20:25:43.793238Z',\n",
       "     'iopub.status.idle': '2025-05-06T20:25:43.794175Z'}},\n",
       "   'outputs': [],\n",
       "   'source': 'import pandas as pd',\n",
       "   'id': '0ffa0959'},\n",
       "  {'cell_type': 'code',\n",
       "   'execution_count': 4,\n",
       "   'metadata': {'tags': [],\n",
       "    'papermill': {'exception': False,\n",
       "     'start_time': '2025-05-06T20:25:43.796740',\n",
       "     'end_time': '2025-05-06T20:25:43.808909',\n",
       "     'duration': 0.012169,\n",
       "     'status': 'completed'},\n",
       "    'execution': {'iopub.status.busy': '2025-05-06T20:25:43.799366Z',\n",
       "     'iopub.execute_input': '2025-05-06T20:25:43.799669Z',\n",
       "     'shell.execute_reply': '2025-05-06T20:25:43.807797Z',\n",
       "     'iopub.status.idle': '2025-05-06T20:25:43.808107Z'}},\n",
       "   'outputs': [{'output_type': 'execute_result',\n",
       "     'metadata': {},\n",
       "     'data': {'text/plain': '     0\\n0  0.6\\n1  0.1',\n",
       "      'text/html': '<div>\\n<style scoped>\\n    .dataframe tbody tr th:only-of-type {\\n        vertical-align: middle;\\n    }\\n\\n    .dataframe tbody tr th {\\n        vertical-align: top;\\n    }\\n\\n    .dataframe thead th {\\n        text-align: right;\\n    }\\n</style>\\n<table border=\"1\" class=\"dataframe\">\\n  <thead>\\n    <tr style=\"text-align: right;\">\\n      <th></th>\\n      <th>0</th>\\n    </tr>\\n  </thead>\\n  <tbody>\\n    <tr>\\n      <th>0</th>\\n      <td>0.6</td>\\n    </tr>\\n    <tr>\\n      <th>1</th>\\n      <td>0.1</td>\\n    </tr>\\n  </tbody>\\n</table>\\n</div>'},\n",
       "     'execution_count': 4}],\n",
       "   'source': 'pd.DataFrame([alpha, ratio])',\n",
       "   'id': 'ffec184d'}],\n",
       " 'metadata': {'kernelspec': {'display_name': 'Python 3',\n",
       "   'language': 'python',\n",
       "   'name': 'python3'},\n",
       "  'language_info': {'name': 'python',\n",
       "   'version': '3.11.12',\n",
       "   'mimetype': 'text/x-python',\n",
       "   'codemirror_mode': {'name': 'ipython', 'version': 3},\n",
       "   'pygments_lexer': 'ipython3',\n",
       "   'nbconvert_exporter': 'python',\n",
       "   'file_extension': '.py'},\n",
       "  'orig_nbformat_minor': 2,\n",
       "  'papermill': {'default_parameters': {},\n",
       "   'parameters': {'alpha': 0.6, 'ratio': 0.1},\n",
       "   'environment_variables': {},\n",
       "   'version': '2.6.0',\n",
       "   'input_path': '1_papermill_example.ipynb',\n",
       "   'output_path': 'output.ipynb',\n",
       "   'start_time': '2025-05-06T20:25:42.260043',\n",
       "   'end_time': '2025-05-06T20:25:44.025867',\n",
       "   'duration': 1.765824,\n",
       "   'exception': None}},\n",
       " 'nbformat': 4,\n",
       " 'nbformat_minor': 5}"
      ]
     },
     "execution_count": 1,
     "metadata": {},
     "output_type": "execute_result"
    }
   ],
   "source": [
    "import papermill as pm\n",
    "\n",
    "pm.execute_notebook(\n",
    "   '1_papermill_example.ipynb',\n",
    "   'output.ipynb',\n",
    "   parameters=dict(alpha=0.6, ratio=0.1)\n",
    ")"
   ]
  },
  {
   "cell_type": "markdown",
   "metadata": {},
   "source": [
    "Or via CLI"
   ]
  },
  {
   "cell_type": "code",
   "execution_count": 11,
   "metadata": {},
   "outputs": [
    {
     "name": "stderr",
     "output_type": "stream",
     "text": [
      "Input Notebook:  1_papermill_example.ipynb\n",
      "Output Notebook: output.ipynb\n",
      "Passed unknown parameter: l1_ratio\n",
      "Executing:   0%|          | 0/4 [00:00<?, ?cell/s]Executing notebook with kernel: python3\n",
      "Executing: 100%|██████████| 4/4 [00:01<00:00,  2.20cell/s]\n"
     ]
    }
   ],
   "source": [
    "%%sh\n",
    "papermill 1_papermill_example.ipynb output.ipynb -p alpha 0.6 -p l1_ratio 0.1"
   ]
  }
 ],
 "metadata": {
  "kernelspec": {
   "display_name": "Python 3",
   "language": "python",
   "name": "python3"
  },
  "language_info": {
   "codemirror_mode": {
    "name": "ipython",
    "version": 3
   },
   "file_extension": ".py",
   "mimetype": "text/x-python",
   "name": "python",
   "nbconvert_exporter": "python",
   "pygments_lexer": "ipython3",
   "version": "3.11.12"
  }
 },
 "nbformat": 4,
 "nbformat_minor": 2
}
