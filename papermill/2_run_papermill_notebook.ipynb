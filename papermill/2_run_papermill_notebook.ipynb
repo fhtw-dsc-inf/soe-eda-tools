{
 "cells": [
  {
   "cell_type": "markdown",
   "metadata": {},
   "source": [
    "# Execute via the Python API\n",
    "The execute_notebook function can be called to execute an input notebook when passed a dictionary of parameters:\n",
    "\n",
    "`execute_notebook(<input notebook>, <output notebook>, <dictionary of parameters>)`"
   ]
  },
  {
   "cell_type": "code",
   "execution_count": 3,
   "metadata": {},
   "outputs": [
    {
     "data": {
      "application/vnd.jupyter.widget-view+json": {
       "model_id": "dcabf6341b984a08a7fa7d49114e2908",
       "version_major": 2,
       "version_minor": 0
      },
      "text/plain": [
       "Executing:   0%|          | 0/4 [00:00<?, ?cell/s]"
      ]
     },
     "metadata": {},
     "output_type": "display_data"
    },
    {
     "data": {
      "text/plain": [
       "{'cells': [{'cell_type': 'code',\n",
       "   'execution_count': 1,\n",
       "   'metadata': {'tags': ['parameters'],\n",
       "    'papermill': {'exception': False,\n",
       "     'start_time': '2024-04-30T12:33:09.191248',\n",
       "     'end_time': '2024-04-30T12:33:09.202684',\n",
       "     'duration': 0.011436,\n",
       "     'status': 'completed'},\n",
       "    'execution': {'iopub.status.busy': '2024-04-30T12:33:09.194139Z',\n",
       "     'iopub.execute_input': '2024-04-30T12:33:09.194576Z',\n",
       "     'shell.execute_reply': '2024-04-30T12:33:09.200406Z',\n",
       "     'iopub.status.idle': '2024-04-30T12:33:09.201077Z'}},\n",
       "   'outputs': [],\n",
       "   'source': 'alpha = 0.1\\nratio = 0.1',\n",
       "   'id': 'd86317d4'},\n",
       "  {'id': 'beb47122',\n",
       "   'cell_type': 'code',\n",
       "   'metadata': {'tags': ['injected-parameters'],\n",
       "    'papermill': {'exception': False,\n",
       "     'start_time': '2024-04-30T12:33:09.204505',\n",
       "     'end_time': '2024-04-30T12:33:09.212849',\n",
       "     'duration': 0.008344,\n",
       "     'status': 'completed'},\n",
       "    'execution': {'iopub.status.busy': '2024-04-30T12:33:09.207753Z',\n",
       "     'iopub.execute_input': '2024-04-30T12:33:09.207953Z',\n",
       "     'iopub.status.idle': '2024-04-30T12:33:09.210963Z',\n",
       "     'shell.execute_reply': '2024-04-30T12:33:09.210006Z'}},\n",
       "   'execution_count': 2,\n",
       "   'source': '# Parameters\\nalpha = 0.6\\nratio = 0.1\\n',\n",
       "   'outputs': []},\n",
       "  {'cell_type': 'code',\n",
       "   'execution_count': 3,\n",
       "   'metadata': {'tags': [],\n",
       "    'papermill': {'exception': False,\n",
       "     'start_time': '2024-04-30T12:33:09.214016',\n",
       "     'end_time': '2024-04-30T12:33:09.549834',\n",
       "     'duration': 0.335818,\n",
       "     'status': 'completed'},\n",
       "    'execution': {'iopub.status.busy': '2024-04-30T12:33:09.215979Z',\n",
       "     'iopub.execute_input': '2024-04-30T12:33:09.216474Z',\n",
       "     'shell.execute_reply': '2024-04-30T12:33:09.546949Z',\n",
       "     'iopub.status.idle': '2024-04-30T12:33:09.548016Z'}},\n",
       "   'outputs': [],\n",
       "   'source': 'import pandas as pd',\n",
       "   'id': '678ae3a8'},\n",
       "  {'cell_type': 'code',\n",
       "   'execution_count': 4,\n",
       "   'metadata': {'tags': [],\n",
       "    'papermill': {'exception': False,\n",
       "     'start_time': '2024-04-30T12:33:09.551923',\n",
       "     'end_time': '2024-04-30T12:33:09.567528',\n",
       "     'duration': 0.015605,\n",
       "     'status': 'completed'},\n",
       "    'execution': {'iopub.status.busy': '2024-04-30T12:33:09.555030Z',\n",
       "     'iopub.execute_input': '2024-04-30T12:33:09.555515Z',\n",
       "     'iopub.status.idle': '2024-04-30T12:33:09.565913Z',\n",
       "     'shell.execute_reply': '2024-04-30T12:33:09.565124Z'}},\n",
       "   'outputs': [{'output_type': 'execute_result',\n",
       "     'metadata': {},\n",
       "     'data': {'text/plain': '     0\\n0  0.6\\n1  0.1',\n",
       "      'text/html': '<div>\\n<style scoped>\\n    .dataframe tbody tr th:only-of-type {\\n        vertical-align: middle;\\n    }\\n\\n    .dataframe tbody tr th {\\n        vertical-align: top;\\n    }\\n\\n    .dataframe thead th {\\n        text-align: right;\\n    }\\n</style>\\n<table border=\"1\" class=\"dataframe\">\\n  <thead>\\n    <tr style=\"text-align: right;\">\\n      <th></th>\\n      <th>0</th>\\n    </tr>\\n  </thead>\\n  <tbody>\\n    <tr>\\n      <th>0</th>\\n      <td>0.6</td>\\n    </tr>\\n    <tr>\\n      <th>1</th>\\n      <td>0.1</td>\\n    </tr>\\n  </tbody>\\n</table>\\n</div>'},\n",
       "     'execution_count': 4}],\n",
       "   'source': 'pd.DataFrame([alpha, ratio])',\n",
       "   'id': '205b4a5f'}],\n",
       " 'metadata': {'kernelspec': {'display_name': 'Python 3',\n",
       "   'language': 'python',\n",
       "   'name': 'python3'},\n",
       "  'language_info': {'name': 'python',\n",
       "   'version': '3.10.13',\n",
       "   'mimetype': 'text/x-python',\n",
       "   'codemirror_mode': {'name': 'ipython', 'version': 3},\n",
       "   'pygments_lexer': 'ipython3',\n",
       "   'nbconvert_exporter': 'python',\n",
       "   'file_extension': '.py'},\n",
       "  'orig_nbformat_minor': 2,\n",
       "  'papermill': {'default_parameters': {},\n",
       "   'parameters': {'alpha': 0.6, 'ratio': 0.1},\n",
       "   'environment_variables': {},\n",
       "   'version': '2.6.0',\n",
       "   'input_path': '1_papermill_example.ipynb',\n",
       "   'output_path': 'output.ipynb',\n",
       "   'start_time': '2024-04-30T12:33:08.229838',\n",
       "   'end_time': '2024-04-30T12:33:09.792575',\n",
       "   'duration': 1.562737,\n",
       "   'exception': None}},\n",
       " 'nbformat': 4,\n",
       " 'nbformat_minor': 5}"
      ]
     },
     "execution_count": 3,
     "metadata": {},
     "output_type": "execute_result"
    }
   ],
   "source": [
    "import papermill as pm\n",
    "\n",
    "pm.execute_notebook(\n",
    "   '1_papermill_example.ipynb',\n",
    "   'output.ipynb',\n",
    "   parameters=dict(alpha=0.6, ratio=0.1)\n",
    ")"
   ]
  },
  {
   "cell_type": "markdown",
   "metadata": {},
   "source": [
    "Or via CLI"
   ]
  },
  {
   "cell_type": "code",
   "execution_count": 11,
   "metadata": {},
   "outputs": [
    {
     "name": "stderr",
     "output_type": "stream",
     "text": [
      "Input Notebook:  1_papermill_example.ipynb\n",
      "Output Notebook: output.ipynb\n",
      "Passed unknown parameter: l1_ratio\n",
      "Executing:   0%|          | 0/4 [00:00<?, ?cell/s]Executing notebook with kernel: python3\n",
      "Executing: 100%|██████████| 4/4 [00:01<00:00,  2.20cell/s]\n"
     ]
    }
   ],
   "source": [
    "%%sh\n",
    "papermill 1_papermill_example.ipynb output.ipynb -p alpha 0.6 -p l1_ratio 0.1"
   ]
  }
 ],
 "metadata": {
  "kernelspec": {
   "display_name": "Python 3",
   "language": "python",
   "name": "python3"
  },
  "language_info": {
   "codemirror_mode": {
    "name": "ipython",
    "version": 3
   },
   "file_extension": ".py",
   "mimetype": "text/x-python",
   "name": "python",
   "nbconvert_exporter": "python",
   "pygments_lexer": "ipython3",
   "version": "3.10.13"
  }
 },
 "nbformat": 4,
 "nbformat_minor": 2
}
