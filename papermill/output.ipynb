{
 "cells": [
  {
   "cell_type": "code",
   "execution_count": 1,
   "id": "2c7193ae",
   "metadata": {
    "execution": {
     "iopub.execute_input": "2024-04-30T12:35:22.620689Z",
     "iopub.status.busy": "2024-04-30T12:35:22.619968Z",
     "iopub.status.idle": "2024-04-30T12:35:22.628699Z",
     "shell.execute_reply": "2024-04-30T12:35:22.628013Z"
    },
    "papermill": {
     "duration": 0.014038,
     "end_time": "2024-04-30T12:35:22.630573",
     "exception": false,
     "start_time": "2024-04-30T12:35:22.616535",
     "status": "completed"
    },
    "tags": [
     "parameters"
    ]
   },
   "outputs": [],
   "source": [
    "alpha = 0.1\n",
    "ratio = 0.1"
   ]
  },
  {
   "cell_type": "code",
   "execution_count": 2,
   "id": "a68ffbcb",
   "metadata": {
    "execution": {
     "iopub.execute_input": "2024-04-30T12:35:22.634346Z",
     "iopub.status.busy": "2024-04-30T12:35:22.633791Z",
     "iopub.status.idle": "2024-04-30T12:35:22.637211Z",
     "shell.execute_reply": "2024-04-30T12:35:22.636503Z"
    },
    "papermill": {
     "duration": 0.006743,
     "end_time": "2024-04-30T12:35:22.638645",
     "exception": false,
     "start_time": "2024-04-30T12:35:22.631902",
     "status": "completed"
    },
    "tags": [
     "injected-parameters"
    ]
   },
   "outputs": [],
   "source": [
    "# Parameters\n",
    "alpha = 0.6\n",
    "l1_ratio = 0.1\n"
   ]
  },
  {
   "cell_type": "code",
   "execution_count": 3,
   "id": "52d81712",
   "metadata": {
    "execution": {
     "iopub.execute_input": "2024-04-30T12:35:22.642552Z",
     "iopub.status.busy": "2024-04-30T12:35:22.642059Z",
     "iopub.status.idle": "2024-04-30T12:35:22.968603Z",
     "shell.execute_reply": "2024-04-30T12:35:22.967890Z"
    },
    "papermill": {
     "duration": 0.330513,
     "end_time": "2024-04-30T12:35:22.970439",
     "exception": false,
     "start_time": "2024-04-30T12:35:22.639926",
     "status": "completed"
    },
    "tags": []
   },
   "outputs": [],
   "source": [
    "import pandas as pd"
   ]
  },
  {
   "cell_type": "code",
   "execution_count": 4,
   "id": "c190e34a",
   "metadata": {
    "execution": {
     "iopub.execute_input": "2024-04-30T12:35:22.974677Z",
     "iopub.status.busy": "2024-04-30T12:35:22.974079Z",
     "iopub.status.idle": "2024-04-30T12:35:22.984578Z",
     "shell.execute_reply": "2024-04-30T12:35:22.983821Z"
    },
    "papermill": {
     "duration": 0.014166,
     "end_time": "2024-04-30T12:35:22.986171",
     "exception": false,
     "start_time": "2024-04-30T12:35:22.972005",
     "status": "completed"
    },
    "tags": []
   },
   "outputs": [
    {
     "data": {
      "text/html": [
       "<div>\n",
       "<style scoped>\n",
       "    .dataframe tbody tr th:only-of-type {\n",
       "        vertical-align: middle;\n",
       "    }\n",
       "\n",
       "    .dataframe tbody tr th {\n",
       "        vertical-align: top;\n",
       "    }\n",
       "\n",
       "    .dataframe thead th {\n",
       "        text-align: right;\n",
       "    }\n",
       "</style>\n",
       "<table border=\"1\" class=\"dataframe\">\n",
       "  <thead>\n",
       "    <tr style=\"text-align: right;\">\n",
       "      <th></th>\n",
       "      <th>0</th>\n",
       "    </tr>\n",
       "  </thead>\n",
       "  <tbody>\n",
       "    <tr>\n",
       "      <th>0</th>\n",
       "      <td>0.6</td>\n",
       "    </tr>\n",
       "    <tr>\n",
       "      <th>1</th>\n",
       "      <td>0.1</td>\n",
       "    </tr>\n",
       "  </tbody>\n",
       "</table>\n",
       "</div>"
      ],
      "text/plain": [
       "     0\n",
       "0  0.6\n",
       "1  0.1"
      ]
     },
     "execution_count": 4,
     "metadata": {},
     "output_type": "execute_result"
    }
   ],
   "source": [
    "pd.DataFrame([alpha, ratio])"
   ]
  }
 ],
 "metadata": {
  "kernelspec": {
   "display_name": "Python 3",
   "language": "python",
   "name": "python3"
  },
  "language_info": {
   "codemirror_mode": {
    "name": "ipython",
    "version": 3
   },
   "file_extension": ".py",
   "mimetype": "text/x-python",
   "name": "python",
   "nbconvert_exporter": "python",
   "pygments_lexer": "ipython3",
   "version": "3.10.13"
  },
  "papermill": {
   "default_parameters": {},
   "duration": 1.821332,
   "end_time": "2024-04-30T12:35:23.207580",
   "environment_variables": {},
   "exception": null,
   "input_path": "1_papermill_example.ipynb",
   "output_path": "output.ipynb",
   "parameters": {
    "alpha": 0.6,
    "l1_ratio": 0.1
   },
   "start_time": "2024-04-30T12:35:21.386248",
   "version": "2.6.0"
  }
 },
 "nbformat": 4,
 "nbformat_minor": 5
}