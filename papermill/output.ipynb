{
 "cells": [
  {
   "cell_type": "code",
   "execution_count": 1,
   "id": "3d648488",
   "metadata": {
    "execution": {
     "iopub.execute_input": "2025-05-06T20:25:43.420576Z",
     "iopub.status.busy": "2025-05-06T20:25:43.420269Z",
     "iopub.status.idle": "2025-05-06T20:25:43.429311Z",
     "shell.execute_reply": "2025-05-06T20:25:43.428874Z"
    },
    "papermill": {
     "duration": 0.013563,
     "end_time": "2025-05-06T20:25:43.431164",
     "exception": false,
     "start_time": "2025-05-06T20:25:43.417601",
     "status": "completed"
    },
    "tags": [
     "parameters"
    ]
   },
   "outputs": [],
   "source": [
    "alpha = 0.1\n",
    "ratio = 0.1"
   ]
  },
  {
   "cell_type": "code",
   "execution_count": 2,
   "id": "e15d1ff0",
   "metadata": {
    "execution": {
     "iopub.execute_input": "2025-05-06T20:25:43.443686Z",
     "iopub.status.busy": "2025-05-06T20:25:43.443470Z",
     "iopub.status.idle": "2025-05-06T20:25:43.447051Z",
     "shell.execute_reply": "2025-05-06T20:25:43.446590Z"
    },
    "papermill": {
     "duration": 0.010115,
     "end_time": "2025-05-06T20:25:43.448372",
     "exception": false,
     "start_time": "2025-05-06T20:25:43.438257",
     "status": "completed"
    },
    "tags": [
     "injected-parameters"
    ]
   },
   "outputs": [],
   "source": [
    "# Parameters\n",
    "alpha = 0.6\n",
    "ratio = 0.1\n"
   ]
  },
  {
   "cell_type": "code",
   "execution_count": 3,
   "id": "0ffa0959",
   "metadata": {
    "execution": {
     "iopub.execute_input": "2025-05-06T20:25:43.456959Z",
     "iopub.status.busy": "2025-05-06T20:25:43.456754Z",
     "iopub.status.idle": "2025-05-06T20:25:43.794175Z",
     "shell.execute_reply": "2025-05-06T20:25:43.793238Z"
    },
    "papermill": {
     "duration": 0.344054,
     "end_time": "2025-05-06T20:25:43.795197",
     "exception": false,
     "start_time": "2025-05-06T20:25:43.451143",
     "status": "completed"
    },
    "tags": []
   },
   "outputs": [],
   "source": [
    "import pandas as pd"
   ]
  },
  {
   "cell_type": "code",
   "execution_count": 4,
   "id": "ffec184d",
   "metadata": {
    "execution": {
     "iopub.execute_input": "2025-05-06T20:25:43.799669Z",
     "iopub.status.busy": "2025-05-06T20:25:43.799366Z",
     "iopub.status.idle": "2025-05-06T20:25:43.808107Z",
     "shell.execute_reply": "2025-05-06T20:25:43.807797Z"
    },
    "papermill": {
     "duration": 0.012169,
     "end_time": "2025-05-06T20:25:43.808909",
     "exception": false,
     "start_time": "2025-05-06T20:25:43.796740",
     "status": "completed"
    },
    "tags": []
   },
   "outputs": [
    {
     "data": {
      "text/html": [
       "<div>\n",
       "<style scoped>\n",
       "    .dataframe tbody tr th:only-of-type {\n",
       "        vertical-align: middle;\n",
       "    }\n",
       "\n",
       "    .dataframe tbody tr th {\n",
       "        vertical-align: top;\n",
       "    }\n",
       "\n",
       "    .dataframe thead th {\n",
       "        text-align: right;\n",
       "    }\n",
       "</style>\n",
       "<table border=\"1\" class=\"dataframe\">\n",
       "  <thead>\n",
       "    <tr style=\"text-align: right;\">\n",
       "      <th></th>\n",
       "      <th>0</th>\n",
       "    </tr>\n",
       "  </thead>\n",
       "  <tbody>\n",
       "    <tr>\n",
       "      <th>0</th>\n",
       "      <td>0.6</td>\n",
       "    </tr>\n",
       "    <tr>\n",
       "      <th>1</th>\n",
       "      <td>0.1</td>\n",
       "    </tr>\n",
       "  </tbody>\n",
       "</table>\n",
       "</div>"
      ],
      "text/plain": [
       "     0\n",
       "0  0.6\n",
       "1  0.1"
      ]
     },
     "execution_count": 4,
     "metadata": {},
     "output_type": "execute_result"
    }
   ],
   "source": [
    "pd.DataFrame([alpha, ratio])"
   ]
  }
 ],
 "metadata": {
  "kernelspec": {
   "display_name": "Python 3",
   "language": "python",
   "name": "python3"
  },
  "language_info": {
   "codemirror_mode": {
    "name": "ipython",
    "version": 3
   },
   "file_extension": ".py",
   "mimetype": "text/x-python",
   "name": "python",
   "nbconvert_exporter": "python",
   "pygments_lexer": "ipython3",
   "version": "3.11.12"
  },
  "papermill": {
   "default_parameters": {},
   "duration": 1.765824,
   "end_time": "2025-05-06T20:25:44.025867",
   "environment_variables": {},
   "exception": null,
   "input_path": "1_papermill_example.ipynb",
   "output_path": "output.ipynb",
   "parameters": {
    "alpha": 0.6,
    "ratio": 0.1
   },
   "start_time": "2025-05-06T20:25:42.260043",
   "version": "2.6.0"
  }
 },
 "nbformat": 4,
 "nbformat_minor": 5
}