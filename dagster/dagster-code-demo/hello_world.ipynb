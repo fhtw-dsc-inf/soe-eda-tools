{
 "cells": [
  {
   "cell_type": "code",
   "execution_count": 2,
   "metadata": {},
   "outputs": [
    {
     "name": "stdout",
     "output_type": "stream",
     "text": [
      "Writing hello_world.py\n"
     ]
    }
   ],
   "source": [
    "%%file hello_world.py\n",
    "from dagster import job, op\n",
    "\n",
    "\n",
    "@op\n",
    "def get_name():\n",
    "    return \"dagster\"\n",
    "\n",
    "\n",
    "@op\n",
    "def hello(name: str):\n",
    "    print(f\"Hello, {name}!\")\n",
    "\n",
    "\n",
    "@job\n",
    "def hello_dagster():\n",
    "    hello(get_name())"
   ]
  },
  {
   "cell_type": "markdown",
   "metadata": {},
   "source": [
    "### Running the Job in Dagit\n",
    "Dagit is a web-based interface for viewing and interacting with Dagster objects.\n",
    "To visualize your job in Dagit, run the following command:\n",
    "\n",
    "`dagit -f hello_world.py`\n",
    "\n",
    "Then navigate to http://localhost:3000 to start using Dagit:"
   ]
  },
  {
   "cell_type": "markdown",
   "metadata": {},
   "source": [
    "### Running the Job Programmatically\n",
    "You can also execute the job without the UI.\n",
    "\n",
    "Dagster Python API"
   ]
  },
  {
   "cell_type": "code",
   "execution_count": null,
   "metadata": {},
   "outputs": [],
   "source": [
    "if __name__ == \"__main__\":\n",
    "    result = hello_dagster.execute_in_process()"
   ]
  },
  {
   "cell_type": "markdown",
   "metadata": {},
   "source": [
    "### Execute job w/o UI\n",
    "`dagster job execute -f hello_world.py`"
   ]
  }
 ],
 "metadata": {
  "kernelspec": {
   "display_name": "Python 3 (ipykernel)",
   "language": "python",
   "name": "python3"
  },
  "language_info": {
   "codemirror_mode": {
    "name": "ipython",
    "version": 3
   },
   "file_extension": ".py",
   "mimetype": "text/x-python",
   "name": "python",
   "nbconvert_exporter": "python",
   "pygments_lexer": "ipython3",
   "version": "3.9.12"
  }
 },
 "nbformat": 4,
 "nbformat_minor": 4
}
