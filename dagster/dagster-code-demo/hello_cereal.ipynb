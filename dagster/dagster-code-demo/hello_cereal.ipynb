{
 "cells": [
  {
   "cell_type": "code",
   "execution_count": 10,
   "metadata": {},
   "outputs": [
    {
     "name": "stdout",
     "output_type": "stream",
     "text": [
      "Requirement already satisfied: aiofiles in c:\\users\\moh\\anaconda3\\lib\\site-packages (0.8.0)\n"
     ]
    }
   ],
   "source": [
    "!pip install aiofiles"
   ]
  },
  {
   "cell_type": "code",
   "execution_count": 4,
   "metadata": {},
   "outputs": [
    {
     "name": "stdout",
     "output_type": "stream",
     "text": [
      "Overwriting hello_cereal.py\n"
     ]
    }
   ],
   "source": [
    "%%file hello_cereal.py\n",
    "import requests\n",
    "import csv\n",
    "from dagster import job, op, get_dagster_logger\n",
    "\n",
    "@op\n",
    "def hello_cereal():\n",
    "    response = requests.get(\"https://storage.googleapis.com/bck-123-22/cereal.csv\")\n",
    "    lines = response.text.split(\"\\n\")\n",
    "    cereals = [row for row in csv.DictReader(lines)]\n",
    "    get_dagster_logger().info(f\"Found {len(cereals)} cereals\")\n",
    "\n",
    "@job\n",
    "def hello_cereal_job():\n",
    "    hello_cereal()"
   ]
  }
 ],
 "metadata": {
  "kernelspec": {
   "display_name": "Python 3 (ipykernel)",
   "language": "python",
   "name": "python3"
  },
  "language_info": {
   "codemirror_mode": {
    "name": "ipython",
    "version": 3
   },
   "file_extension": ".py",
   "mimetype": "text/x-python",
   "name": "python",
   "nbconvert_exporter": "python",
   "pygments_lexer": "ipython3",
   "version": "3.9.12"
  }
 },
 "nbformat": 4,
 "nbformat_minor": 4
}
