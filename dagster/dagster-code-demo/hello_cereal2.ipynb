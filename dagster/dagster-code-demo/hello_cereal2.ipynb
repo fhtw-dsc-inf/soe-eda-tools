{
 "cells": [
  {
   "cell_type": "code",
   "execution_count": 2,
   "metadata": {},
   "outputs": [
    {
     "name": "stdout",
     "output_type": "stream",
     "text": [
      "Overwriting hello_cereal2.py\n"
     ]
    }
   ],
   "source": [
    "%%file hello_cereal2.py\n",
    "import csv\n",
    "import requests\n",
    "\n",
    "from dagster import get_dagster_logger, job, op\n",
    "\n",
    "@op\n",
    "def download_cereals():\n",
    "    response = requests.get(\"https://storage.googleapis.com/bck-123-22/cereal.csv\")\n",
    "    lines = response.text.split(\"\\n\")\n",
    "    return [row for row in csv.DictReader(lines)]\n",
    "\n",
    "@op\n",
    "def find_sugariest(cereals):\n",
    "    sorted_by_sugar = sorted(cereals, key=lambda cereal: cereal[\"sugars\"])\n",
    "    get_dagster_logger().info(f'{sorted_by_sugar[-1][\"name\"]} is the sugariest cereal')\n",
    "\n",
    "@job\n",
    "def serial():\n",
    "    find_sugariest(download_cereals())"
   ]
  }
 ],
 "metadata": {
  "kernelspec": {
   "display_name": "Python 3 (ipykernel)",
   "language": "python",
   "name": "python3"
  },
  "language_info": {
   "codemirror_mode": {
    "name": "ipython",
    "version": 3
   },
   "file_extension": ".py",
   "mimetype": "text/x-python",
   "name": "python",
   "nbconvert_exporter": "python",
   "pygments_lexer": "ipython3",
   "version": "3.9.12"
  }
 },
 "nbformat": 4,
 "nbformat_minor": 4
}
