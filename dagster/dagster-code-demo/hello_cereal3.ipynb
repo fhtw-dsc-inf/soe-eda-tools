{
 "cells": [
  {
   "cell_type": "code",
   "execution_count": 5,
   "metadata": {},
   "outputs": [
    {
     "name": "stdout",
     "output_type": "stream",
     "text": [
      "Overwriting hello_cereal3.py\n"
     ]
    }
   ],
   "source": [
    "%%file hello_cereal3.py\n",
    "\n",
    "import csv\n",
    "import requests\n",
    "from dagster import get_dagster_logger, job, op\n",
    "\n",
    "@op\n",
    "def download_cereals():\n",
    "    response = requests.get(\"https://storage.googleapis.com/bck-123-22/cereal.csv\")\n",
    "    lines = response.text.split(\"\\n\")\n",
    "    return [row for row in csv.DictReader(lines)]\n",
    "\n",
    "@op\n",
    "def find_highest_calorie_cereal(cereals):\n",
    "    sorted_cereals = list(sorted(cereals, key=lambda cereal: cereal[\"calories\"]))\n",
    "    return sorted_cereals[-1][\"name\"]\n",
    "\n",
    "@op\n",
    "def find_highest_protein_cereal(cereals):\n",
    "    sorted_cereals = list(sorted(cereals, key=lambda cereal: cereal[\"protein\"]))\n",
    "    return sorted_cereals[-1][\"name\"]\n",
    "\n",
    "@op\n",
    "def display_results(most_calories, most_protein):\n",
    "    logger = get_dagster_logger()\n",
    "    logger.info(f\"Most caloric cereal: {most_calories}\")\n",
    "    logger.info(f\"Most protein-rich cereal: {most_protein}\")\n",
    "\n",
    "@job\n",
    "def diamond():\n",
    "    cereals = download_cereals()\n",
    "    display_results(\n",
    "        most_calories=find_highest_calorie_cereal(cereals),\n",
    "        most_protein=find_highest_protein_cereal(cereals),\n",
    "    )"
   ]
  }
 ],
 "metadata": {
  "kernelspec": {
   "display_name": "Python 3 (ipykernel)",
   "language": "python",
   "name": "python3"
  },
  "language_info": {
   "codemirror_mode": {
    "name": "ipython",
    "version": 3
   },
   "file_extension": ".py",
   "mimetype": "text/x-python",
   "name": "python",
   "nbconvert_exporter": "python",
   "pygments_lexer": "ipython3",
   "version": "3.9.12"
  }
 },
 "nbformat": 4,
 "nbformat_minor": 4
}
