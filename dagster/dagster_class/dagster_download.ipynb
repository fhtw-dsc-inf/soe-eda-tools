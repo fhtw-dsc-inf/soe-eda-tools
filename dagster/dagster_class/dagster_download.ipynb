{
 "cells": [
  {
   "cell_type": "code",
   "execution_count": 1,
   "metadata": {},
   "outputs": [
    {
     "name": "stdout",
     "output_type": "stream",
     "text": [
      "Writing download.py\n"
     ]
    }
   ],
   "source": [
    "%%file download.py\n",
    "from dagster import job, op, get_dagster_logger\n",
    "import requests\n",
    "import csv\n",
    "\n",
    "@op #declares a dagster operation\n",
    "def download_cereal():\n",
    "    response = requests.get(\"https://storage.googleapis.com/bck-123-22/cereal.csv\")\n",
    "    lines = response.text.split(\"\\n\")\n",
    "    cereals = [row for row in csv.DictReader(lines)]\n",
    "    get_dagster_logger().info(f\"Found {len(cereals} cereals\")\n",
    "\n",
    "@job\n",
    "def get_cereals_job():\n",
    "    download_cereal()"
   ]
  }
 ],
 "metadata": {
  "kernelspec": {
   "display_name": "Python 3 (ipykernel)",
   "language": "python",
   "name": "python3"
  },
  "language_info": {
   "codemirror_mode": {
    "name": "ipython",
    "version": 3
   },
   "file_extension": ".py",
   "mimetype": "text/x-python",
   "name": "python",
   "nbconvert_exporter": "python",
   "pygments_lexer": "ipython3",
   "version": "3.9.12"
  }
 },
 "nbformat": 4,
 "nbformat_minor": 4
}
